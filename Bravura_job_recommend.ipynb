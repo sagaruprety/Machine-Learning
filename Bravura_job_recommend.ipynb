{
  "nbformat": 4,
  "nbformat_minor": 0,
  "metadata": {
    "colab": {
      "name": "Bravura_job_recommend.ipynb",
      "provenance": [],
      "authorship_tag": "ABX9TyPqa51eJSSoymKuEUbRoTtN",
      "include_colab_link": true
    },
    "kernelspec": {
      "display_name": "Python 3",
      "name": "python3"
    },
    "language_info": {
      "name": "python"
    }
  },
  "cells": [
    {
      "cell_type": "markdown",
      "metadata": {
        "id": "view-in-github",
        "colab_type": "text"
      },
      "source": [
        "<a href=\"https://colab.research.google.com/github/sagaruprety/Machine-Learning/blob/master/Bravura_job_recommend.ipynb\" target=\"_parent\"><img src=\"https://colab.research.google.com/assets/colab-badge.svg\" alt=\"Open In Colab\"/></a>"
      ]
    },
    {
      "cell_type": "code",
      "metadata": {
        "colab": {
          "base_uri": "https://localhost:8080/"
        },
        "id": "PV12Y-FfYOPs",
        "outputId": "94a360e4-9726-4d16-8a0d-ad0a73cb1e46"
      },
      "source": [
        "from google.colab import drive\n",
        "drive.mount('/content/gdrive')"
      ],
      "execution_count": 3,
      "outputs": [
        {
          "output_type": "stream",
          "text": [
            "Mounted at /content/gdrive\n"
          ],
          "name": "stdout"
        }
      ]
    },
    {
      "cell_type": "code",
      "metadata": {
        "id": "mJzyCrfcaAAg"
      },
      "source": [
        "import os\n",
        "os.environ['KAGGLE_CONFIG_DIR'] = \"/content/gdrive/My Drive/Kaggle\""
      ],
      "execution_count": 4,
      "outputs": []
    },
    {
      "cell_type": "code",
      "metadata": {
        "colab": {
          "base_uri": "https://localhost:8080/"
        },
        "id": "gOtESxQ6bDr6",
        "outputId": "1669af8c-6e3b-4435-bad5-8405d63d25a2"
      },
      "source": [
        "%cd /content/gdrive/My Drive/Kaggle"
      ],
      "execution_count": 5,
      "outputs": [
        {
          "output_type": "stream",
          "text": [
            "/content/gdrive/My Drive/Kaggle\n"
          ],
          "name": "stdout"
        }
      ]
    },
    {
      "cell_type": "code",
      "metadata": {
        "colab": {
          "base_uri": "https://localhost:8080/"
        },
        "id": "UhrsvXj1bMmW",
        "outputId": "c4221189-0de8-46c9-de1e-c453c9e8c5f1"
      },
      "source": [
        "!kaggle datasets download -d kandij/job-recommendation-datasets"
      ],
      "execution_count": 5,
      "outputs": [
        {
          "output_type": "stream",
          "text": [
            "Downloading job-recommendation-datasets.zip to /content/gdrive/My Drive/Kaggle\n",
            " 15% 8.00M/52.4M [00:00<00:05, 8.68MB/s]\n",
            "User cancelled operation\n"
          ],
          "name": "stdout"
        }
      ]
    },
    {
      "cell_type": "code",
      "metadata": {
        "id": "HidpWKtsbYdX"
      },
      "source": [
        "!unzip \\*.zip  && rm *.zip"
      ],
      "execution_count": null,
      "outputs": []
    },
    {
      "cell_type": "code",
      "metadata": {
        "colab": {
          "base_uri": "https://localhost:8080/"
        },
        "id": "0R0N5B4d6DcY",
        "outputId": "16c2b2bf-fd4c-4c04-ebd8-4788f919c008"
      },
      "source": [
        "%cd /content/gdrive/My Drive/Kaggle"
      ],
      "execution_count": 6,
      "outputs": [
        {
          "output_type": "stream",
          "text": [
            "/content/gdrive/My Drive/Kaggle\n"
          ],
          "name": "stdout"
        }
      ]
    },
    {
      "cell_type": "code",
      "metadata": {
        "colab": {
          "base_uri": "https://localhost:8080/"
        },
        "id": "w_a5R-7qb5U8",
        "outputId": "3f0ba01c-6fc2-4e58-f19e-84df5778e2de"
      },
      "source": [
        "import numpy as np\n",
        "import pandas as pd\n",
        "pd.options.mode.chained_assignment = None  # default='warn'\n",
        "combined_jobs = pd.read_csv('Combined_Jobs_Final.csv')\n",
        "list(combined_jobs)"
      ],
      "execution_count": 19,
      "outputs": [
        {
          "output_type": "execute_result",
          "data": {
            "text/plain": [
              "['Job.ID',\n",
              " 'Provider',\n",
              " 'Status',\n",
              " 'Slug',\n",
              " 'Title',\n",
              " 'Position',\n",
              " 'Company',\n",
              " 'City',\n",
              " 'State.Name',\n",
              " 'State.Code',\n",
              " 'Address',\n",
              " 'Latitude',\n",
              " 'Longitude',\n",
              " 'Industry',\n",
              " 'Job.Description',\n",
              " 'Requirements',\n",
              " 'Salary',\n",
              " 'Listing.Start',\n",
              " 'Listing.End',\n",
              " 'Employment.Type',\n",
              " 'Education.Required',\n",
              " 'Created.At',\n",
              " 'Updated.At']"
            ]
          },
          "metadata": {
            "tags": []
          },
          "execution_count": 19
        }
      ]
    },
    {
      "cell_type": "code",
      "metadata": {
        "colab": {
          "base_uri": "https://localhost:8080/",
          "height": 591
        },
        "id": "r4lLtFqXFx8V",
        "outputId": "8cf37182-1965-41c8-801d-188cd295748a"
      },
      "source": [
        "combined_jobs.head()"
      ],
      "execution_count": 20,
      "outputs": [
        {
          "output_type": "execute_result",
          "data": {
            "text/html": [
              "<div>\n",
              "<style scoped>\n",
              "    .dataframe tbody tr th:only-of-type {\n",
              "        vertical-align: middle;\n",
              "    }\n",
              "\n",
              "    .dataframe tbody tr th {\n",
              "        vertical-align: top;\n",
              "    }\n",
              "\n",
              "    .dataframe thead th {\n",
              "        text-align: right;\n",
              "    }\n",
              "</style>\n",
              "<table border=\"1\" class=\"dataframe\">\n",
              "  <thead>\n",
              "    <tr style=\"text-align: right;\">\n",
              "      <th></th>\n",
              "      <th>Job.ID</th>\n",
              "      <th>Provider</th>\n",
              "      <th>Status</th>\n",
              "      <th>Slug</th>\n",
              "      <th>Title</th>\n",
              "      <th>Position</th>\n",
              "      <th>Company</th>\n",
              "      <th>City</th>\n",
              "      <th>State.Name</th>\n",
              "      <th>State.Code</th>\n",
              "      <th>Address</th>\n",
              "      <th>Latitude</th>\n",
              "      <th>Longitude</th>\n",
              "      <th>Industry</th>\n",
              "      <th>Job.Description</th>\n",
              "      <th>Requirements</th>\n",
              "      <th>Salary</th>\n",
              "      <th>Listing.Start</th>\n",
              "      <th>Listing.End</th>\n",
              "      <th>Employment.Type</th>\n",
              "      <th>Education.Required</th>\n",
              "      <th>Created.At</th>\n",
              "      <th>Updated.At</th>\n",
              "    </tr>\n",
              "  </thead>\n",
              "  <tbody>\n",
              "    <tr>\n",
              "      <th>0</th>\n",
              "      <td>111</td>\n",
              "      <td>1</td>\n",
              "      <td>open</td>\n",
              "      <td>palo-alto-ca-tacolicious-server</td>\n",
              "      <td>Server @ Tacolicious</td>\n",
              "      <td>Server</td>\n",
              "      <td>Tacolicious</td>\n",
              "      <td>Palo Alto</td>\n",
              "      <td>California</td>\n",
              "      <td>CA</td>\n",
              "      <td>NaN</td>\n",
              "      <td>37.443346</td>\n",
              "      <td>-122.161170</td>\n",
              "      <td>Food and Beverages</td>\n",
              "      <td>Tacolicious' first Palo Alto store just opened...</td>\n",
              "      <td>NaN</td>\n",
              "      <td>8.00</td>\n",
              "      <td>NaN</td>\n",
              "      <td>NaN</td>\n",
              "      <td>Part-Time</td>\n",
              "      <td>NaN</td>\n",
              "      <td>2013-03-12 02:08:28 UTC</td>\n",
              "      <td>2014-08-16 15:35:36 UTC</td>\n",
              "    </tr>\n",
              "    <tr>\n",
              "      <th>1</th>\n",
              "      <td>113</td>\n",
              "      <td>1</td>\n",
              "      <td>open</td>\n",
              "      <td>san-francisco-ca-claude-lane-kitchen-staff-chef</td>\n",
              "      <td>Kitchen Staff/Chef @ Claude Lane</td>\n",
              "      <td>Kitchen Staff/Chef</td>\n",
              "      <td>Claude Lane</td>\n",
              "      <td>San Francisco</td>\n",
              "      <td>California</td>\n",
              "      <td>CA</td>\n",
              "      <td>NaN</td>\n",
              "      <td>37.789830</td>\n",
              "      <td>-122.404268</td>\n",
              "      <td>Food and Beverages</td>\n",
              "      <td>\\r\\n\\r\\nNew French Brasserie in S.F. Financia...</td>\n",
              "      <td>NaN</td>\n",
              "      <td>0.00</td>\n",
              "      <td>NaN</td>\n",
              "      <td>NaN</td>\n",
              "      <td>Part-Time</td>\n",
              "      <td>NaN</td>\n",
              "      <td>2013-04-12 08:36:36 UTC</td>\n",
              "      <td>2014-08-16 15:35:36 UTC</td>\n",
              "    </tr>\n",
              "    <tr>\n",
              "      <th>2</th>\n",
              "      <td>117</td>\n",
              "      <td>1</td>\n",
              "      <td>open</td>\n",
              "      <td>san-francisco-ca-machka-restaurants-corp-barte...</td>\n",
              "      <td>Bartender @ Machka Restaurants Corp.</td>\n",
              "      <td>Bartender</td>\n",
              "      <td>Machka Restaurants Corp.</td>\n",
              "      <td>San Francisco</td>\n",
              "      <td>California</td>\n",
              "      <td>CA</td>\n",
              "      <td>NaN</td>\n",
              "      <td>37.795597</td>\n",
              "      <td>-122.402963</td>\n",
              "      <td>Food and Beverages</td>\n",
              "      <td>We are a popular Mediterranean wine bar and re...</td>\n",
              "      <td>NaN</td>\n",
              "      <td>11.00</td>\n",
              "      <td>NaN</td>\n",
              "      <td>NaN</td>\n",
              "      <td>Part-Time</td>\n",
              "      <td>NaN</td>\n",
              "      <td>2013-07-16 09:34:10 UTC</td>\n",
              "      <td>2014-08-16 15:35:37 UTC</td>\n",
              "    </tr>\n",
              "    <tr>\n",
              "      <th>3</th>\n",
              "      <td>121</td>\n",
              "      <td>1</td>\n",
              "      <td>open</td>\n",
              "      <td>brisbane-ca-teriyaki-house-server</td>\n",
              "      <td>Server @ Teriyaki House</td>\n",
              "      <td>Server</td>\n",
              "      <td>Teriyaki House</td>\n",
              "      <td>Brisbane</td>\n",
              "      <td>California</td>\n",
              "      <td>CA</td>\n",
              "      <td>NaN</td>\n",
              "      <td>37.685073</td>\n",
              "      <td>-122.400275</td>\n",
              "      <td>Food and Beverages</td>\n",
              "      <td>● Serve food/drinks to customers in a profess...</td>\n",
              "      <td>NaN</td>\n",
              "      <td>10.55</td>\n",
              "      <td>NaN</td>\n",
              "      <td>NaN</td>\n",
              "      <td>Part-Time</td>\n",
              "      <td>NaN</td>\n",
              "      <td>2013-09-04 15:40:30 UTC</td>\n",
              "      <td>2014-08-16 15:35:38 UTC</td>\n",
              "    </tr>\n",
              "    <tr>\n",
              "      <th>4</th>\n",
              "      <td>127</td>\n",
              "      <td>1</td>\n",
              "      <td>open</td>\n",
              "      <td>los-angeles-ca-rosa-mexicano-sunset-kitchen-st...</td>\n",
              "      <td>Kitchen Staff/Chef @ Rosa Mexicano - Sunset</td>\n",
              "      <td>Kitchen Staff/Chef</td>\n",
              "      <td>Rosa Mexicano - Sunset</td>\n",
              "      <td>Los Angeles</td>\n",
              "      <td>California</td>\n",
              "      <td>CA</td>\n",
              "      <td>NaN</td>\n",
              "      <td>34.073384</td>\n",
              "      <td>-118.460439</td>\n",
              "      <td>Food and Beverages</td>\n",
              "      <td>Located at the heart of Hollywood, we are one ...</td>\n",
              "      <td>NaN</td>\n",
              "      <td>10.55</td>\n",
              "      <td>NaN</td>\n",
              "      <td>NaN</td>\n",
              "      <td>Part-Time</td>\n",
              "      <td>NaN</td>\n",
              "      <td>2013-07-17 15:26:18 UTC</td>\n",
              "      <td>2014-08-16 15:35:40 UTC</td>\n",
              "    </tr>\n",
              "  </tbody>\n",
              "</table>\n",
              "</div>"
            ],
            "text/plain": [
              "   Job.ID  Provider  ...               Created.At               Updated.At\n",
              "0     111         1  ...  2013-03-12 02:08:28 UTC  2014-08-16 15:35:36 UTC\n",
              "1     113         1  ...  2013-04-12 08:36:36 UTC  2014-08-16 15:35:36 UTC\n",
              "2     117         1  ...  2013-07-16 09:34:10 UTC  2014-08-16 15:35:37 UTC\n",
              "3     121         1  ...  2013-09-04 15:40:30 UTC  2014-08-16 15:35:38 UTC\n",
              "4     127         1  ...  2013-07-17 15:26:18 UTC  2014-08-16 15:35:40 UTC\n",
              "\n",
              "[5 rows x 23 columns]"
            ]
          },
          "metadata": {
            "tags": []
          },
          "execution_count": 20
        }
      ]
    },
    {
      "cell_type": "code",
      "metadata": {
        "colab": {
          "base_uri": "https://localhost:8080/"
        },
        "id": "ySsY5FXLFoQb",
        "outputId": "86d140b8-cedd-498e-94e6-4e7f9b3ff979"
      },
      "source": [
        "print(combined_jobs.shape)\n",
        "combined_jobs.isnull().sum()"
      ],
      "execution_count": 10,
      "outputs": [
        {
          "output_type": "stream",
          "text": [
            "(84090, 23)\n"
          ],
          "name": "stdout"
        },
        {
          "output_type": "execute_result",
          "data": {
            "text/plain": [
              "Job.ID                    0\n",
              "Provider                  0\n",
              "Status                    0\n",
              "Slug                      0\n",
              "Title                     0\n",
              "Position                  0\n",
              "Company                2271\n",
              "City                    135\n",
              "State.Name              171\n",
              "State.Code              171\n",
              "Address               84054\n",
              "Latitude                  0\n",
              "Longitude                 0\n",
              "Industry              83823\n",
              "Job.Description          56\n",
              "Requirements          84090\n",
              "Salary                83861\n",
              "Listing.Start           683\n",
              "Listing.End             167\n",
              "Employment.Type          10\n",
              "Education.Required      267\n",
              "Created.At                0\n",
              "Updated.At                0\n",
              "dtype: int64"
            ]
          },
          "metadata": {
            "tags": []
          },
          "execution_count": 10
        }
      ]
    },
    {
      "cell_type": "code",
      "metadata": {
        "colab": {
          "base_uri": "https://localhost:8080/",
          "height": 293
        },
        "id": "NSZv2RnyGEG9",
        "outputId": "9b2a56e3-1a5f-424b-a485-2c38fd790a69"
      },
      "source": [
        "new_cols = list(['Job.ID']+['Slug']+['Title']+['Position']+ ['Company']+['City']+['Employment.Type']+['Education.Required']+['Job.Description'])\n",
        "final_jobs = combined_jobs[new_cols]\n",
        "final_jobs.columns = ['Job_Id','Slug', 'Title', 'Position', 'Company','City', 'Empl_type','Edu_req','Job_Description']\n",
        "final_jobs.head() "
      ],
      "execution_count": 21,
      "outputs": [
        {
          "output_type": "execute_result",
          "data": {
            "text/html": [
              "<div>\n",
              "<style scoped>\n",
              "    .dataframe tbody tr th:only-of-type {\n",
              "        vertical-align: middle;\n",
              "    }\n",
              "\n",
              "    .dataframe tbody tr th {\n",
              "        vertical-align: top;\n",
              "    }\n",
              "\n",
              "    .dataframe thead th {\n",
              "        text-align: right;\n",
              "    }\n",
              "</style>\n",
              "<table border=\"1\" class=\"dataframe\">\n",
              "  <thead>\n",
              "    <tr style=\"text-align: right;\">\n",
              "      <th></th>\n",
              "      <th>Job_Id</th>\n",
              "      <th>Slug</th>\n",
              "      <th>Title</th>\n",
              "      <th>Position</th>\n",
              "      <th>Company</th>\n",
              "      <th>City</th>\n",
              "      <th>Empl_type</th>\n",
              "      <th>Edu_req</th>\n",
              "      <th>Job_Description</th>\n",
              "    </tr>\n",
              "  </thead>\n",
              "  <tbody>\n",
              "    <tr>\n",
              "      <th>0</th>\n",
              "      <td>111</td>\n",
              "      <td>palo-alto-ca-tacolicious-server</td>\n",
              "      <td>Server @ Tacolicious</td>\n",
              "      <td>Server</td>\n",
              "      <td>Tacolicious</td>\n",
              "      <td>Palo Alto</td>\n",
              "      <td>Part-Time</td>\n",
              "      <td>NaN</td>\n",
              "      <td>Tacolicious' first Palo Alto store just opened...</td>\n",
              "    </tr>\n",
              "    <tr>\n",
              "      <th>1</th>\n",
              "      <td>113</td>\n",
              "      <td>san-francisco-ca-claude-lane-kitchen-staff-chef</td>\n",
              "      <td>Kitchen Staff/Chef @ Claude Lane</td>\n",
              "      <td>Kitchen Staff/Chef</td>\n",
              "      <td>Claude Lane</td>\n",
              "      <td>San Francisco</td>\n",
              "      <td>Part-Time</td>\n",
              "      <td>NaN</td>\n",
              "      <td>\\r\\n\\r\\nNew French Brasserie in S.F. Financia...</td>\n",
              "    </tr>\n",
              "    <tr>\n",
              "      <th>2</th>\n",
              "      <td>117</td>\n",
              "      <td>san-francisco-ca-machka-restaurants-corp-barte...</td>\n",
              "      <td>Bartender @ Machka Restaurants Corp.</td>\n",
              "      <td>Bartender</td>\n",
              "      <td>Machka Restaurants Corp.</td>\n",
              "      <td>San Francisco</td>\n",
              "      <td>Part-Time</td>\n",
              "      <td>NaN</td>\n",
              "      <td>We are a popular Mediterranean wine bar and re...</td>\n",
              "    </tr>\n",
              "    <tr>\n",
              "      <th>3</th>\n",
              "      <td>121</td>\n",
              "      <td>brisbane-ca-teriyaki-house-server</td>\n",
              "      <td>Server @ Teriyaki House</td>\n",
              "      <td>Server</td>\n",
              "      <td>Teriyaki House</td>\n",
              "      <td>Brisbane</td>\n",
              "      <td>Part-Time</td>\n",
              "      <td>NaN</td>\n",
              "      <td>● Serve food/drinks to customers in a profess...</td>\n",
              "    </tr>\n",
              "    <tr>\n",
              "      <th>4</th>\n",
              "      <td>127</td>\n",
              "      <td>los-angeles-ca-rosa-mexicano-sunset-kitchen-st...</td>\n",
              "      <td>Kitchen Staff/Chef @ Rosa Mexicano - Sunset</td>\n",
              "      <td>Kitchen Staff/Chef</td>\n",
              "      <td>Rosa Mexicano - Sunset</td>\n",
              "      <td>Los Angeles</td>\n",
              "      <td>Part-Time</td>\n",
              "      <td>NaN</td>\n",
              "      <td>Located at the heart of Hollywood, we are one ...</td>\n",
              "    </tr>\n",
              "  </tbody>\n",
              "</table>\n",
              "</div>"
            ],
            "text/plain": [
              "   Job_Id  ...                                    Job_Description\n",
              "0     111  ...  Tacolicious' first Palo Alto store just opened...\n",
              "1     113  ...   \\r\\n\\r\\nNew French Brasserie in S.F. Financia...\n",
              "2     117  ...  We are a popular Mediterranean wine bar and re...\n",
              "3     121  ...   ● Serve food/drinks to customers in a profess...\n",
              "4     127  ...  Located at the heart of Hollywood, we are one ...\n",
              "\n",
              "[5 rows x 9 columns]"
            ]
          },
          "metadata": {
            "tags": []
          },
          "execution_count": 21
        }
      ]
    },
    {
      "cell_type": "code",
      "metadata": {
        "colab": {
          "base_uri": "https://localhost:8080/"
        },
        "id": "ou6fhgiQHWlW",
        "outputId": "3f28f73e-ba9a-452c-f51f-0334943cac44"
      },
      "source": [
        "final_jobs.isnull().sum()"
      ],
      "execution_count": 12,
      "outputs": [
        {
          "output_type": "execute_result",
          "data": {
            "text/plain": [
              "Job_Id                0\n",
              "Slug                  0\n",
              "Title                 0\n",
              "Position              0\n",
              "Company            2271\n",
              "City                135\n",
              "Empl_type            10\n",
              "Edu_req             267\n",
              "Job_Description      56\n",
              "dtype: int64"
            ]
          },
          "metadata": {
            "tags": []
          },
          "execution_count": 12
        }
      ]
    },
    {
      "cell_type": "code",
      "metadata": {
        "colab": {
          "base_uri": "https://localhost:8080/"
        },
        "id": "3JEXloTRKYp2",
        "outputId": "6d7aec02-d26e-4689-96f9-a8e8ef7f4ca5"
      },
      "source": [
        "#selecting NaN rows of city\n",
        "no_city = final_jobs[pd.isnull(final_jobs['City'])]\n",
        "print(no_city.shape)\n",
        "\n",
        "#finding names of companies which do not have a city name listed\n",
        "no_city['Company'].unique()"
      ],
      "execution_count": 23,
      "outputs": [
        {
          "output_type": "stream",
          "text": [
            "(0, 9)\n"
          ],
          "name": "stdout"
        },
        {
          "output_type": "execute_result",
          "data": {
            "text/plain": [
              "array([], dtype=object)"
            ]
          },
          "metadata": {
            "tags": []
          },
          "execution_count": 23
        }
      ]
    },
    {
      "cell_type": "code",
      "metadata": {
        "id": "it98Pt08LVqc"
      },
      "source": [
        "#replacing nan with New York\n",
        "final_jobs.loc[:,'City'] = final_jobs.loc[:,'City'].fillna('New York')\n",
        "\n",
        "#Similarly replacing NAN values in employment type with Part-Time\n",
        "final_jobs.loc[:,'Empl_type'] = final_jobs.loc[:,'Empl_type'].fillna('Part-Time')\n"
      ],
      "execution_count": 25,
      "outputs": []
    },
    {
      "cell_type": "code",
      "metadata": {
        "colab": {
          "base_uri": "https://localhost:8080/"
        },
        "id": "FV4QsHK8OKBB",
        "outputId": "2fab8b41-f07c-4e9b-f3ca-763303e1973a"
      },
      "source": [
        "#Combining all relevant textual columns to form job-document\n",
        "\n",
        "final_jobs[\"Job_Doc\"] = final_jobs[\"Position\"].map(str) + \" \" + final_jobs[\"Company\"] +\" \"+ final_jobs[\"City\"]+ \" \"+final_jobs['Empl_type']+\" \"+final_jobs['Job_Description']\n",
        "final_jobs['Job_Doc'] = final_jobs['Job_Doc'].str.replace('[^a-zA-Z \\n\\.]',\" \")\n",
        "final_jobs['Job_Doc'] = final_jobs['Job_Doc'].str.lower()\n",
        "job_docs = final_jobs[['Job_Id','Job_Doc']]\n",
        "job_docs = job_docs.dropna()\n",
        "job_docs.shape"
      ],
      "execution_count": 26,
      "outputs": [
        {
          "output_type": "execute_result",
          "data": {
            "text/plain": [
              "(81766, 2)"
            ]
          },
          "metadata": {
            "tags": []
          },
          "execution_count": 26
        }
      ]
    },
    {
      "cell_type": "code",
      "metadata": {
        "colab": {
          "base_uri": "https://localhost:8080/"
        },
        "id": "Pk0Gf8t4RPE7",
        "outputId": "5b5d210f-08e1-4251-dac3-c7e3b0ea17d8"
      },
      "source": [
        "import nltk\n",
        "nltk.download('stopwords')"
      ],
      "execution_count": 27,
      "outputs": [
        {
          "output_type": "stream",
          "text": [
            "[nltk_data] Downloading package stopwords to /root/nltk_data...\n",
            "[nltk_data]   Package stopwords is already up-to-date!\n"
          ],
          "name": "stdout"
        },
        {
          "output_type": "execute_result",
          "data": {
            "text/plain": [
              "True"
            ]
          },
          "metadata": {
            "tags": []
          },
          "execution_count": 27
        }
      ]
    },
    {
      "cell_type": "code",
      "metadata": {
        "colab": {
          "base_uri": "https://localhost:8080/",
          "height": 206
        },
        "id": "QrOSrM05QaoB",
        "outputId": "9671562d-184a-4a82-b3bf-7c5a61315d7d"
      },
      "source": [
        "#removing stopwords\n",
        "\n",
        "_job_doc = job_docs['Job_Doc']\n",
        "from nltk.corpus import stopwords\n",
        "stop = stopwords.words('english')\n",
        "_no_stop = _job_doc.apply(lambda x: ' '.join([word for word in x.split() if word not in (stop)]))\n",
        "_no_stop.head()\n",
        "\n",
        "job_docs['Job_Doc'] = _no_stop\n",
        "job_docs.head()"
      ],
      "execution_count": 28,
      "outputs": [
        {
          "output_type": "execute_result",
          "data": {
            "text/html": [
              "<div>\n",
              "<style scoped>\n",
              "    .dataframe tbody tr th:only-of-type {\n",
              "        vertical-align: middle;\n",
              "    }\n",
              "\n",
              "    .dataframe tbody tr th {\n",
              "        vertical-align: top;\n",
              "    }\n",
              "\n",
              "    .dataframe thead th {\n",
              "        text-align: right;\n",
              "    }\n",
              "</style>\n",
              "<table border=\"1\" class=\"dataframe\">\n",
              "  <thead>\n",
              "    <tr style=\"text-align: right;\">\n",
              "      <th></th>\n",
              "      <th>Job_Id</th>\n",
              "      <th>Job_Doc</th>\n",
              "    </tr>\n",
              "  </thead>\n",
              "  <tbody>\n",
              "    <tr>\n",
              "      <th>0</th>\n",
              "      <td>111</td>\n",
              "      <td>server tacolicious palo alto part time tacolic...</td>\n",
              "    </tr>\n",
              "    <tr>\n",
              "      <th>1</th>\n",
              "      <td>113</td>\n",
              "      <td>kitchen staff chef claude lane san francisco p...</td>\n",
              "    </tr>\n",
              "    <tr>\n",
              "      <th>2</th>\n",
              "      <td>117</td>\n",
              "      <td>bartender machka restaurants corp. san francis...</td>\n",
              "    </tr>\n",
              "    <tr>\n",
              "      <th>3</th>\n",
              "      <td>121</td>\n",
              "      <td>server teriyaki house brisbane part time serve...</td>\n",
              "    </tr>\n",
              "    <tr>\n",
              "      <th>4</th>\n",
              "      <td>127</td>\n",
              "      <td>kitchen staff chef rosa mexicano sunset los an...</td>\n",
              "    </tr>\n",
              "  </tbody>\n",
              "</table>\n",
              "</div>"
            ],
            "text/plain": [
              "   Job_Id                                            Job_Doc\n",
              "0     111  server tacolicious palo alto part time tacolic...\n",
              "1     113  kitchen staff chef claude lane san francisco p...\n",
              "2     117  bartender machka restaurants corp. san francis...\n",
              "3     121  server teriyaki house brisbane part time serve...\n",
              "4     127  kitchen staff chef rosa mexicano sunset los an..."
            ]
          },
          "metadata": {
            "tags": []
          },
          "execution_count": 28
        }
      ]
    },
    {
      "cell_type": "code",
      "metadata": {
        "id": "qg4dJr8aWzKq"
      },
      "source": [
        "job_docs.to_csv(\"job_docs.csv\", index=True)"
      ],
      "execution_count": 29,
      "outputs": []
    },
    {
      "cell_type": "code",
      "metadata": {
        "id": "tCqIT7W0WzCy"
      },
      "source": [
        "#Vectorising the data\n",
        "import pandas as pd\n",
        "from sklearn.feature_extraction.text import TfidfVectorizer\n",
        "\n",
        "tfidf_vectorizer = TfidfVectorizer()\n",
        "job_docs = pd.read_csv('job_docs.csv')\n",
        "\n",
        "job_vecs = tfidf_vectorizer.fit_transform((job_docs['Job_Doc'])) #fitting and transforming the vector"
      ],
      "execution_count": 7,
      "outputs": []
    },
    {
      "cell_type": "code",
      "metadata": {
        "colab": {
          "base_uri": "https://localhost:8080/"
        },
        "id": "l1hnO-Y0awUk",
        "outputId": "a0f2b2ab-b3a0-4fed-eadb-6767606b86d6"
      },
      "source": [
        "#User historical data from positions viewed is considered to form the query\n",
        "\n",
        "user_view_history = pd.read_csv('Job_Views.csv')\n",
        "user_view_history.info()"
      ],
      "execution_count": 31,
      "outputs": [
        {
          "output_type": "stream",
          "text": [
            "<class 'pandas.core.frame.DataFrame'>\n",
            "RangeIndex: 12370 entries, 0 to 12369\n",
            "Data columns (total 14 columns):\n",
            " #   Column         Non-Null Count  Dtype  \n",
            "---  ------         --------------  -----  \n",
            " 0   Applicant.ID   12370 non-null  int64  \n",
            " 1   Job.ID         12370 non-null  int64  \n",
            " 2   Title          12370 non-null  object \n",
            " 3   Position       12370 non-null  object \n",
            " 4   Company        11790 non-null  object \n",
            " 5   City           12370 non-null  object \n",
            " 6   State.Name     12348 non-null  object \n",
            " 7   State.Code     12348 non-null  object \n",
            " 8   Industry       2199 non-null   object \n",
            " 9   View.Start     12370 non-null  object \n",
            " 10  View.End       10575 non-null  object \n",
            " 11  View.Duration  10575 non-null  float64\n",
            " 12  Created.At     12370 non-null  object \n",
            " 13  Updated.At     12370 non-null  object \n",
            "dtypes: float64(1), int64(2), object(11)\n",
            "memory usage: 1.3+ MB\n"
          ],
          "name": "stdout"
        }
      ]
    },
    {
      "cell_type": "code",
      "metadata": {
        "colab": {
          "base_uri": "https://localhost:8080/",
          "height": 206
        },
        "id": "2CtsnSEmb3kw",
        "outputId": "99674d68-9050-4a9b-e3e9-1feaf86bdcac"
      },
      "source": [
        "_user_view_relevant = user_view_history[['Applicant.ID', 'Job.ID', 'Position', 'Company','City']]\n",
        "\n",
        "_user_view_relevant[\"View_Query\"] = _user_view_relevant[\"Position\"].map(str) + \"  \" + _user_view_relevant[\"Company\"] +\"  \"+ _user_view_relevant[\"City\"]\n",
        "\n",
        "_user_view_relevant['View_Query'] = _user_view_relevant['View_Query'].str.replace('[^a-zA-Z \\n\\.]',\"\")\n",
        "\n",
        "_user_view_relevant['View_Query'] = _user_view_relevant['View_Query'].str.lower()\n",
        "\n",
        "user_view_history = _user_view_relevant[['Applicant.ID','View_Query']]\n",
        "\n",
        "user_view_history.head()"
      ],
      "execution_count": 32,
      "outputs": [
        {
          "output_type": "execute_result",
          "data": {
            "text/html": [
              "<div>\n",
              "<style scoped>\n",
              "    .dataframe tbody tr th:only-of-type {\n",
              "        vertical-align: middle;\n",
              "    }\n",
              "\n",
              "    .dataframe tbody tr th {\n",
              "        vertical-align: top;\n",
              "    }\n",
              "\n",
              "    .dataframe thead th {\n",
              "        text-align: right;\n",
              "    }\n",
              "</style>\n",
              "<table border=\"1\" class=\"dataframe\">\n",
              "  <thead>\n",
              "    <tr style=\"text-align: right;\">\n",
              "      <th></th>\n",
              "      <th>Applicant.ID</th>\n",
              "      <th>View_Query</th>\n",
              "    </tr>\n",
              "  </thead>\n",
              "  <tbody>\n",
              "    <tr>\n",
              "      <th>0</th>\n",
              "      <td>10000</td>\n",
              "      <td>cashiers  valets needed  wallypark  newark</td>\n",
              "    </tr>\n",
              "    <tr>\n",
              "      <th>1</th>\n",
              "      <td>10000</td>\n",
              "      <td>macys seasonal retail fragrance cashier   gard...</td>\n",
              "    </tr>\n",
              "    <tr>\n",
              "      <th>2</th>\n",
              "      <td>10001</td>\n",
              "      <td>part time showroom sales  cashier  grizzly ind...</td>\n",
              "    </tr>\n",
              "    <tr>\n",
              "      <th>3</th>\n",
              "      <td>10002</td>\n",
              "      <td>event specialist part time  advantage sales  m...</td>\n",
              "    </tr>\n",
              "    <tr>\n",
              "      <th>4</th>\n",
              "      <td>10002</td>\n",
              "      <td>bonefish  kitchen staff  bonefish grill  green...</td>\n",
              "    </tr>\n",
              "  </tbody>\n",
              "</table>\n",
              "</div>"
            ],
            "text/plain": [
              "   Applicant.ID                                         View_Query\n",
              "0         10000         cashiers  valets needed  wallypark  newark\n",
              "1         10000  macys seasonal retail fragrance cashier   gard...\n",
              "2         10001  part time showroom sales  cashier  grizzly ind...\n",
              "3         10002  event specialist part time  advantage sales  m...\n",
              "4         10002  bonefish  kitchen staff  bonefish grill  green..."
            ]
          },
          "metadata": {
            "tags": []
          },
          "execution_count": 32
        }
      ]
    },
    {
      "cell_type": "code",
      "metadata": {
        "colab": {
          "base_uri": "https://localhost:8080/",
          "height": 435
        },
        "id": "h0Y431jveTI1",
        "outputId": "5a0e7073-7266-47ed-d0f8-1b961f79dc15"
      },
      "source": [
        "#User's current employment position data is also considered to form the query\n",
        "experience = pd.read_csv('Experience.csv')\n",
        "experience.head()"
      ],
      "execution_count": 33,
      "outputs": [
        {
          "output_type": "execute_result",
          "data": {
            "text/html": [
              "<div>\n",
              "<style scoped>\n",
              "    .dataframe tbody tr th:only-of-type {\n",
              "        vertical-align: middle;\n",
              "    }\n",
              "\n",
              "    .dataframe tbody tr th {\n",
              "        vertical-align: top;\n",
              "    }\n",
              "\n",
              "    .dataframe thead th {\n",
              "        text-align: right;\n",
              "    }\n",
              "</style>\n",
              "<table border=\"1\" class=\"dataframe\">\n",
              "  <thead>\n",
              "    <tr style=\"text-align: right;\">\n",
              "      <th></th>\n",
              "      <th>Applicant.ID</th>\n",
              "      <th>Position.Name</th>\n",
              "      <th>Employer.Name</th>\n",
              "      <th>City</th>\n",
              "      <th>State.Name</th>\n",
              "      <th>State.Code</th>\n",
              "      <th>Start.Date</th>\n",
              "      <th>End.Date</th>\n",
              "      <th>Job.Description</th>\n",
              "      <th>Salary</th>\n",
              "      <th>Can.Contact.Employer</th>\n",
              "      <th>Created.At</th>\n",
              "      <th>Updated.At</th>\n",
              "    </tr>\n",
              "  </thead>\n",
              "  <tbody>\n",
              "    <tr>\n",
              "      <th>0</th>\n",
              "      <td>10001</td>\n",
              "      <td>Account Manager / Sales Administration / Quali...</td>\n",
              "      <td>Barcode Resourcing</td>\n",
              "      <td>Bellingham</td>\n",
              "      <td>Washington</td>\n",
              "      <td>WA</td>\n",
              "      <td>2012-10-15</td>\n",
              "      <td>NaN</td>\n",
              "      <td>NaN</td>\n",
              "      <td>NaN</td>\n",
              "      <td>NaN</td>\n",
              "      <td>2014-12-12 20:10:02 UTC</td>\n",
              "      <td>2014-12-12 20:10:02 UTC</td>\n",
              "    </tr>\n",
              "    <tr>\n",
              "      <th>1</th>\n",
              "      <td>10001</td>\n",
              "      <td>Electronics Technician / Item Master Controller</td>\n",
              "      <td>Ryzex Group</td>\n",
              "      <td>Bellingham</td>\n",
              "      <td>Washington</td>\n",
              "      <td>WA</td>\n",
              "      <td>2001-12-01</td>\n",
              "      <td>2012-04-01</td>\n",
              "      <td>NaN</td>\n",
              "      <td>NaN</td>\n",
              "      <td>NaN</td>\n",
              "      <td>2014-12-12 20:10:02 UTC</td>\n",
              "      <td>2014-12-12 20:10:02 UTC</td>\n",
              "    </tr>\n",
              "    <tr>\n",
              "      <th>2</th>\n",
              "      <td>10001</td>\n",
              "      <td>Machine Operator</td>\n",
              "      <td>comptec inc</td>\n",
              "      <td>Custer</td>\n",
              "      <td>Washington</td>\n",
              "      <td>WA</td>\n",
              "      <td>1997-01-01</td>\n",
              "      <td>1999-01-01</td>\n",
              "      <td>NaN</td>\n",
              "      <td>NaN</td>\n",
              "      <td>NaN</td>\n",
              "      <td>2014-12-12 20:10:02 UTC</td>\n",
              "      <td>2014-12-12 20:10:02 UTC</td>\n",
              "    </tr>\n",
              "    <tr>\n",
              "      <th>3</th>\n",
              "      <td>10003</td>\n",
              "      <td>maintenance technician</td>\n",
              "      <td>Winn residental</td>\n",
              "      <td>washington</td>\n",
              "      <td>District of Columbia</td>\n",
              "      <td>DC</td>\n",
              "      <td>NaN</td>\n",
              "      <td>NaN</td>\n",
              "      <td>Necessary maintenance for \"Make Ready\" Plumbin...</td>\n",
              "      <td>10.0</td>\n",
              "      <td>False</td>\n",
              "      <td>2014-12-12 21:27:05 UTC</td>\n",
              "      <td>2014-12-12 21:27:05 UTC</td>\n",
              "    </tr>\n",
              "    <tr>\n",
              "      <th>4</th>\n",
              "      <td>10003</td>\n",
              "      <td>Electrical Helper</td>\n",
              "      <td>michael and son services</td>\n",
              "      <td>alexandria</td>\n",
              "      <td>Virginia</td>\n",
              "      <td>VA</td>\n",
              "      <td>NaN</td>\n",
              "      <td>NaN</td>\n",
              "      <td>repair and services of electrical construction</td>\n",
              "      <td>NaN</td>\n",
              "      <td>False</td>\n",
              "      <td>2014-12-12 21:27:05 UTC</td>\n",
              "      <td>2014-12-12 21:27:05 UTC</td>\n",
              "    </tr>\n",
              "  </tbody>\n",
              "</table>\n",
              "</div>"
            ],
            "text/plain": [
              "   Applicant.ID  ...               Updated.At\n",
              "0         10001  ...  2014-12-12 20:10:02 UTC\n",
              "1         10001  ...  2014-12-12 20:10:02 UTC\n",
              "2         10001  ...  2014-12-12 20:10:02 UTC\n",
              "3         10003  ...  2014-12-12 21:27:05 UTC\n",
              "4         10003  ...  2014-12-12 21:27:05 UTC\n",
              "\n",
              "[5 rows x 13 columns]"
            ]
          },
          "metadata": {
            "tags": []
          },
          "execution_count": 33
        }
      ]
    },
    {
      "cell_type": "code",
      "metadata": {
        "colab": {
          "base_uri": "https://localhost:8080/",
          "height": 677
        },
        "id": "o7Kiwg9ugkG0",
        "outputId": "482ff4f4-f556-4de2-d977-0123c8bdb815"
      },
      "source": [
        "#Cleaning the text data\n",
        "_clean_experience = experience[['Applicant.ID', 'Position.Name']]\n",
        "_clean_experience['Position.Name'] = _clean_experience['Position.Name'].str.replace('[^a-zA-Z \\n\\.]',\"\")\n",
        "_clean_experience['Position.Name'] = _clean_experience['Position.Name'].str.lower()\n",
        "_clean_experience = _clean_experience.fillna(\" \")\n",
        "_clean_experience = _clean_experience.sort_values(by='Applicant.ID')\n",
        "_clean_experience.head(20)\n",
        "\n"
      ],
      "execution_count": 34,
      "outputs": [
        {
          "output_type": "execute_result",
          "data": {
            "text/html": [
              "<div>\n",
              "<style scoped>\n",
              "    .dataframe tbody tr th:only-of-type {\n",
              "        vertical-align: middle;\n",
              "    }\n",
              "\n",
              "    .dataframe tbody tr th {\n",
              "        vertical-align: top;\n",
              "    }\n",
              "\n",
              "    .dataframe thead th {\n",
              "        text-align: right;\n",
              "    }\n",
              "</style>\n",
              "<table border=\"1\" class=\"dataframe\">\n",
              "  <thead>\n",
              "    <tr style=\"text-align: right;\">\n",
              "      <th></th>\n",
              "      <th>Applicant.ID</th>\n",
              "      <th>Position.Name</th>\n",
              "    </tr>\n",
              "  </thead>\n",
              "  <tbody>\n",
              "    <tr>\n",
              "      <th>2763</th>\n",
              "      <td>2</td>\n",
              "      <td>volunteer</td>\n",
              "    </tr>\n",
              "    <tr>\n",
              "      <th>2762</th>\n",
              "      <td>2</td>\n",
              "      <td>writer for the uloop blog</td>\n",
              "    </tr>\n",
              "    <tr>\n",
              "      <th>3759</th>\n",
              "      <td>3</td>\n",
              "      <td>marketing intern</td>\n",
              "    </tr>\n",
              "    <tr>\n",
              "      <th>3758</th>\n",
              "      <td>3</td>\n",
              "      <td>server</td>\n",
              "    </tr>\n",
              "    <tr>\n",
              "      <th>3757</th>\n",
              "      <td>3</td>\n",
              "      <td>prep cook</td>\n",
              "    </tr>\n",
              "    <tr>\n",
              "      <th>6277</th>\n",
              "      <td>6</td>\n",
              "      <td>project assistant</td>\n",
              "    </tr>\n",
              "    <tr>\n",
              "      <th>7490</th>\n",
              "      <td>8</td>\n",
              "      <td>deli clerkserver cashier food prep order taker</td>\n",
              "    </tr>\n",
              "    <tr>\n",
              "      <th>368</th>\n",
              "      <td>11</td>\n",
              "      <td>cashier</td>\n",
              "    </tr>\n",
              "    <tr>\n",
              "      <th>809</th>\n",
              "      <td>12</td>\n",
              "      <td>server</td>\n",
              "    </tr>\n",
              "    <tr>\n",
              "      <th>810</th>\n",
              "      <td>12</td>\n",
              "      <td>rec leader</td>\n",
              "    </tr>\n",
              "    <tr>\n",
              "      <th>811</th>\n",
              "      <td>12</td>\n",
              "      <td>it program management intern</td>\n",
              "    </tr>\n",
              "    <tr>\n",
              "      <th>1177</th>\n",
              "      <td>13</td>\n",
              "      <td>offica assistant</td>\n",
              "    </tr>\n",
              "    <tr>\n",
              "      <th>1178</th>\n",
              "      <td>13</td>\n",
              "      <td>cashier</td>\n",
              "    </tr>\n",
              "    <tr>\n",
              "      <th>1176</th>\n",
              "      <td>13</td>\n",
              "      <td>assistant</td>\n",
              "    </tr>\n",
              "    <tr>\n",
              "      <th>1672</th>\n",
              "      <td>14</td>\n",
              "      <td>waitress</td>\n",
              "    </tr>\n",
              "    <tr>\n",
              "      <th>1673</th>\n",
              "      <td>14</td>\n",
              "      <td>host</td>\n",
              "    </tr>\n",
              "    <tr>\n",
              "      <th>1674</th>\n",
              "      <td>14</td>\n",
              "      <td>lifeguard</td>\n",
              "    </tr>\n",
              "    <tr>\n",
              "      <th>2547</th>\n",
              "      <td>15</td>\n",
              "      <td></td>\n",
              "    </tr>\n",
              "    <tr>\n",
              "      <th>2546</th>\n",
              "      <td>15</td>\n",
              "      <td></td>\n",
              "    </tr>\n",
              "    <tr>\n",
              "      <th>2685</th>\n",
              "      <td>18</td>\n",
              "      <td>baristacashier</td>\n",
              "    </tr>\n",
              "  </tbody>\n",
              "</table>\n",
              "</div>"
            ],
            "text/plain": [
              "      Applicant.ID                                   Position.Name\n",
              "2763             2                                       volunteer\n",
              "2762             2                       writer for the uloop blog\n",
              "3759             3                                marketing intern\n",
              "3758             3                                          server\n",
              "3757             3                                       prep cook\n",
              "6277             6                               project assistant\n",
              "7490             8  deli clerkserver cashier food prep order taker\n",
              "368             11                                         cashier\n",
              "809             12                                          server\n",
              "810             12                                     rec leader \n",
              "811             12                    it program management intern\n",
              "1177            13                                offica assistant\n",
              "1178            13                                         cashier\n",
              "1176            13                                       assistant\n",
              "1672            14                                        waitress\n",
              "1673            14                                            host\n",
              "1674            14                                       lifeguard\n",
              "2547            15                                                \n",
              "2546            15                                                \n",
              "2685            18                                  baristacashier"
            ]
          },
          "metadata": {
            "tags": []
          },
          "execution_count": 34
        }
      ]
    },
    {
      "cell_type": "code",
      "metadata": {
        "colab": {
          "base_uri": "https://localhost:8080/",
          "height": 677
        },
        "id": "wJq8wUjte2Gy",
        "outputId": "8531d8e9-6fdf-48c1-a6b3-a7a464fe8f1f"
      },
      "source": [
        "#As the user experience is split across different rows, concatenating all rows into a single experience column\n",
        "\n",
        "experience = _clean_experience.groupby('Applicant.ID', sort=False)['Position.Name'].apply(' '.join).reset_index()\n",
        "experience.head(20)"
      ],
      "execution_count": 35,
      "outputs": [
        {
          "output_type": "execute_result",
          "data": {
            "text/html": [
              "<div>\n",
              "<style scoped>\n",
              "    .dataframe tbody tr th:only-of-type {\n",
              "        vertical-align: middle;\n",
              "    }\n",
              "\n",
              "    .dataframe tbody tr th {\n",
              "        vertical-align: top;\n",
              "    }\n",
              "\n",
              "    .dataframe thead th {\n",
              "        text-align: right;\n",
              "    }\n",
              "</style>\n",
              "<table border=\"1\" class=\"dataframe\">\n",
              "  <thead>\n",
              "    <tr style=\"text-align: right;\">\n",
              "      <th></th>\n",
              "      <th>Applicant.ID</th>\n",
              "      <th>Position.Name</th>\n",
              "    </tr>\n",
              "  </thead>\n",
              "  <tbody>\n",
              "    <tr>\n",
              "      <th>0</th>\n",
              "      <td>2</td>\n",
              "      <td>volunteer writer for the uloop blog</td>\n",
              "    </tr>\n",
              "    <tr>\n",
              "      <th>1</th>\n",
              "      <td>3</td>\n",
              "      <td>marketing intern server prep cook</td>\n",
              "    </tr>\n",
              "    <tr>\n",
              "      <th>2</th>\n",
              "      <td>6</td>\n",
              "      <td>project assistant</td>\n",
              "    </tr>\n",
              "    <tr>\n",
              "      <th>3</th>\n",
              "      <td>8</td>\n",
              "      <td>deli clerkserver cashier food prep order taker</td>\n",
              "    </tr>\n",
              "    <tr>\n",
              "      <th>4</th>\n",
              "      <td>11</td>\n",
              "      <td>cashier</td>\n",
              "    </tr>\n",
              "    <tr>\n",
              "      <th>5</th>\n",
              "      <td>12</td>\n",
              "      <td>server rec leader  it program management intern</td>\n",
              "    </tr>\n",
              "    <tr>\n",
              "      <th>6</th>\n",
              "      <td>13</td>\n",
              "      <td>offica assistant cashier assistant</td>\n",
              "    </tr>\n",
              "    <tr>\n",
              "      <th>7</th>\n",
              "      <td>14</td>\n",
              "      <td>waitress host lifeguard</td>\n",
              "    </tr>\n",
              "    <tr>\n",
              "      <th>8</th>\n",
              "      <td>15</td>\n",
              "      <td></td>\n",
              "    </tr>\n",
              "    <tr>\n",
              "      <th>9</th>\n",
              "      <td>18</td>\n",
              "      <td>baristacashier server receptionist</td>\n",
              "    </tr>\n",
              "    <tr>\n",
              "      <th>10</th>\n",
              "      <td>21</td>\n",
              "      <td>cashier</td>\n",
              "    </tr>\n",
              "    <tr>\n",
              "      <th>11</th>\n",
              "      <td>22</td>\n",
              "      <td>sandwich artist shift leader personal in home</td>\n",
              "    </tr>\n",
              "    <tr>\n",
              "      <th>12</th>\n",
              "      <td>23</td>\n",
              "      <td>waiterserver film editor waiterserver</td>\n",
              "    </tr>\n",
              "    <tr>\n",
              "      <th>13</th>\n",
              "      <td>24</td>\n",
              "      <td>volunteer</td>\n",
              "    </tr>\n",
              "    <tr>\n",
              "      <th>14</th>\n",
              "      <td>26</td>\n",
              "      <td>cashier</td>\n",
              "    </tr>\n",
              "    <tr>\n",
              "      <th>15</th>\n",
              "      <td>27</td>\n",
              "      <td>farm intern event organizer lifeguard and chil...</td>\n",
              "    </tr>\n",
              "    <tr>\n",
              "      <th>16</th>\n",
              "      <td>30</td>\n",
              "      <td>server barback expediter</td>\n",
              "    </tr>\n",
              "    <tr>\n",
              "      <th>17</th>\n",
              "      <td>32</td>\n",
              "      <td>roundup newspaper intern intern</td>\n",
              "    </tr>\n",
              "    <tr>\n",
              "      <th>18</th>\n",
              "      <td>33</td>\n",
              "      <td>waitresshostess softlines team trainer nanny</td>\n",
              "    </tr>\n",
              "    <tr>\n",
              "      <th>19</th>\n",
              "      <td>34</td>\n",
              "      <td>server serverhost</td>\n",
              "    </tr>\n",
              "  </tbody>\n",
              "</table>\n",
              "</div>"
            ],
            "text/plain": [
              "    Applicant.ID                                      Position.Name\n",
              "0              2                volunteer writer for the uloop blog\n",
              "1              3                  marketing intern server prep cook\n",
              "2              6                                  project assistant\n",
              "3              8     deli clerkserver cashier food prep order taker\n",
              "4             11                                            cashier\n",
              "5             12    server rec leader  it program management intern\n",
              "6             13                 offica assistant cashier assistant\n",
              "7             14                            waitress host lifeguard\n",
              "8             15                                                   \n",
              "9             18                 baristacashier server receptionist\n",
              "10            21                                            cashier\n",
              "11            22      sandwich artist shift leader personal in home\n",
              "12            23              waiterserver film editor waiterserver\n",
              "13            24                                          volunteer\n",
              "14            26                                            cashier\n",
              "15            27  farm intern event organizer lifeguard and chil...\n",
              "16            30                           server barback expediter\n",
              "17            32                    roundup newspaper intern intern\n",
              "18            33       waitresshostess softlines team trainer nanny\n",
              "19            34                                  server serverhost"
            ]
          },
          "metadata": {
            "tags": []
          },
          "execution_count": 35
        }
      ]
    },
    {
      "cell_type": "code",
      "metadata": {
        "colab": {
          "base_uri": "https://localhost:8080/"
        },
        "id": "kL_iXwojiqqo",
        "outputId": "4b2b8714-d288-48bc-ac51-1fd8b2d441a3"
      },
      "source": [
        "#Using Intereseted Positions data in a similar way to augment query\n",
        "\n",
        "interests = pd.read_csv('Positions_Of_Interest.csv')\n",
        "interests.info()"
      ],
      "execution_count": 36,
      "outputs": [
        {
          "output_type": "stream",
          "text": [
            "<class 'pandas.core.frame.DataFrame'>\n",
            "RangeIndex: 6560 entries, 0 to 6559\n",
            "Data columns (total 4 columns):\n",
            " #   Column                Non-Null Count  Dtype \n",
            "---  ------                --------------  ----- \n",
            " 0   Applicant.ID          6560 non-null   int64 \n",
            " 1   Position.Of.Interest  6558 non-null   object\n",
            " 2   Created.At            6560 non-null   object\n",
            " 3   Updated.At            6560 non-null   object\n",
            "dtypes: int64(1), object(3)\n",
            "memory usage: 205.1+ KB\n"
          ],
          "name": "stdout"
        }
      ]
    },
    {
      "cell_type": "code",
      "metadata": {
        "colab": {
          "base_uri": "https://localhost:8080/",
          "height": 677
        },
        "id": "7si3lVt_jLLX",
        "outputId": "a9736b18-7933-4ca3-df3c-0adf7af11158"
      },
      "source": [
        "_clean_interests = interests[['Applicant.ID', 'Position.Of.Interest']]\n",
        "_clean_interests['Position.Of.Interest'] = _clean_interests['Position.Of.Interest'].str.replace('[^a-zA-Z \\n\\.]',\"\")\n",
        "_clean_interests['Position.Of.Interest'] = _clean_interests['Position.Of.Interest'].str.lower()\n",
        "_clean_interests = _clean_interests.fillna(\" \")\n",
        "_clean_interests = _clean_interests.sort_values(by='Applicant.ID')\n",
        "_clean_interests.head(20)"
      ],
      "execution_count": 37,
      "outputs": [
        {
          "output_type": "execute_result",
          "data": {
            "text/html": [
              "<div>\n",
              "<style scoped>\n",
              "    .dataframe tbody tr th:only-of-type {\n",
              "        vertical-align: middle;\n",
              "    }\n",
              "\n",
              "    .dataframe tbody tr th {\n",
              "        vertical-align: top;\n",
              "    }\n",
              "\n",
              "    .dataframe thead th {\n",
              "        text-align: right;\n",
              "    }\n",
              "</style>\n",
              "<table border=\"1\" class=\"dataframe\">\n",
              "  <thead>\n",
              "    <tr style=\"text-align: right;\">\n",
              "      <th></th>\n",
              "      <th>Applicant.ID</th>\n",
              "      <th>Position.Of.Interest</th>\n",
              "    </tr>\n",
              "  </thead>\n",
              "  <tbody>\n",
              "    <tr>\n",
              "      <th>6437</th>\n",
              "      <td>96</td>\n",
              "      <td>server</td>\n",
              "    </tr>\n",
              "    <tr>\n",
              "      <th>1156</th>\n",
              "      <td>153</td>\n",
              "      <td>barista</td>\n",
              "    </tr>\n",
              "    <tr>\n",
              "      <th>1155</th>\n",
              "      <td>153</td>\n",
              "      <td>host</td>\n",
              "    </tr>\n",
              "    <tr>\n",
              "      <th>1154</th>\n",
              "      <td>153</td>\n",
              "      <td>server</td>\n",
              "    </tr>\n",
              "    <tr>\n",
              "      <th>1158</th>\n",
              "      <td>153</td>\n",
              "      <td>sales rep</td>\n",
              "    </tr>\n",
              "    <tr>\n",
              "      <th>1157</th>\n",
              "      <td>153</td>\n",
              "      <td>customer service rep</td>\n",
              "    </tr>\n",
              "    <tr>\n",
              "      <th>1952</th>\n",
              "      <td>256</td>\n",
              "      <td>host</td>\n",
              "    </tr>\n",
              "    <tr>\n",
              "      <th>1957</th>\n",
              "      <td>256</td>\n",
              "      <td>production area</td>\n",
              "    </tr>\n",
              "    <tr>\n",
              "      <th>1956</th>\n",
              "      <td>256</td>\n",
              "      <td>sales rep</td>\n",
              "    </tr>\n",
              "    <tr>\n",
              "      <th>1955</th>\n",
              "      <td>256</td>\n",
              "      <td>customer service rep</td>\n",
              "    </tr>\n",
              "    <tr>\n",
              "      <th>1954</th>\n",
              "      <td>256</td>\n",
              "      <td>book keeper</td>\n",
              "    </tr>\n",
              "    <tr>\n",
              "      <th>1953</th>\n",
              "      <td>256</td>\n",
              "      <td>receptionist</td>\n",
              "    </tr>\n",
              "    <tr>\n",
              "      <th>1951</th>\n",
              "      <td>256</td>\n",
              "      <td>server</td>\n",
              "    </tr>\n",
              "    <tr>\n",
              "      <th>4031</th>\n",
              "      <td>438</td>\n",
              "      <td>customer service rep</td>\n",
              "    </tr>\n",
              "    <tr>\n",
              "      <th>4030</th>\n",
              "      <td>438</td>\n",
              "      <td>barista</td>\n",
              "    </tr>\n",
              "    <tr>\n",
              "      <th>4029</th>\n",
              "      <td>438</td>\n",
              "      <td>host</td>\n",
              "    </tr>\n",
              "    <tr>\n",
              "      <th>4028</th>\n",
              "      <td>438</td>\n",
              "      <td>server</td>\n",
              "    </tr>\n",
              "    <tr>\n",
              "      <th>4788</th>\n",
              "      <td>568</td>\n",
              "      <td>receptionist</td>\n",
              "    </tr>\n",
              "    <tr>\n",
              "      <th>4790</th>\n",
              "      <td>568</td>\n",
              "      <td>customer service rep</td>\n",
              "    </tr>\n",
              "    <tr>\n",
              "      <th>4789</th>\n",
              "      <td>568</td>\n",
              "      <td>book keeper</td>\n",
              "    </tr>\n",
              "  </tbody>\n",
              "</table>\n",
              "</div>"
            ],
            "text/plain": [
              "      Applicant.ID  Position.Of.Interest\n",
              "6437            96                server\n",
              "1156           153               barista\n",
              "1155           153                  host\n",
              "1154           153                server\n",
              "1158           153             sales rep\n",
              "1157           153  customer service rep\n",
              "1952           256                  host\n",
              "1957           256       production area\n",
              "1956           256             sales rep\n",
              "1955           256  customer service rep\n",
              "1954           256           book keeper\n",
              "1953           256          receptionist\n",
              "1951           256                server\n",
              "4031           438  customer service rep\n",
              "4030           438               barista\n",
              "4029           438                  host\n",
              "4028           438                server\n",
              "4788           568          receptionist\n",
              "4790           568  customer service rep\n",
              "4789           568           book keeper"
            ]
          },
          "metadata": {
            "tags": []
          },
          "execution_count": 37
        }
      ]
    },
    {
      "cell_type": "code",
      "metadata": {
        "colab": {
          "base_uri": "https://localhost:8080/",
          "height": 677
        },
        "id": "ouGIOwKmj0wg",
        "outputId": "4ff8c42c-ffde-4114-f760-7f2abb6254dd"
      },
      "source": [
        "#As the user interest is split across different rows, concatenating all rows into a single interest column\n",
        "\n",
        "interests = _clean_interests.groupby('Applicant.ID', sort=False)['Position.Of.Interest'].apply(' '.join).reset_index()\n",
        "interests.head(20)"
      ],
      "execution_count": 38,
      "outputs": [
        {
          "output_type": "execute_result",
          "data": {
            "text/html": [
              "<div>\n",
              "<style scoped>\n",
              "    .dataframe tbody tr th:only-of-type {\n",
              "        vertical-align: middle;\n",
              "    }\n",
              "\n",
              "    .dataframe tbody tr th {\n",
              "        vertical-align: top;\n",
              "    }\n",
              "\n",
              "    .dataframe thead th {\n",
              "        text-align: right;\n",
              "    }\n",
              "</style>\n",
              "<table border=\"1\" class=\"dataframe\">\n",
              "  <thead>\n",
              "    <tr style=\"text-align: right;\">\n",
              "      <th></th>\n",
              "      <th>Applicant.ID</th>\n",
              "      <th>Position.Of.Interest</th>\n",
              "    </tr>\n",
              "  </thead>\n",
              "  <tbody>\n",
              "    <tr>\n",
              "      <th>0</th>\n",
              "      <td>96</td>\n",
              "      <td>server</td>\n",
              "    </tr>\n",
              "    <tr>\n",
              "      <th>1</th>\n",
              "      <td>153</td>\n",
              "      <td>barista host server sales rep customer service...</td>\n",
              "    </tr>\n",
              "    <tr>\n",
              "      <th>2</th>\n",
              "      <td>256</td>\n",
              "      <td>host production area sales rep customer servic...</td>\n",
              "    </tr>\n",
              "    <tr>\n",
              "      <th>3</th>\n",
              "      <td>438</td>\n",
              "      <td>customer service rep barista host server</td>\n",
              "    </tr>\n",
              "    <tr>\n",
              "      <th>4</th>\n",
              "      <td>568</td>\n",
              "      <td>receptionist customer service rep book keeper</td>\n",
              "    </tr>\n",
              "    <tr>\n",
              "      <th>5</th>\n",
              "      <td>601</td>\n",
              "      <td>customer service rep server line cook</td>\n",
              "    </tr>\n",
              "    <tr>\n",
              "      <th>6</th>\n",
              "      <td>867</td>\n",
              "      <td>driver customer service rep book keeper chef</td>\n",
              "    </tr>\n",
              "    <tr>\n",
              "      <th>7</th>\n",
              "      <td>938</td>\n",
              "      <td>host receptionist customer service rep server</td>\n",
              "    </tr>\n",
              "    <tr>\n",
              "      <th>8</th>\n",
              "      <td>1210</td>\n",
              "      <td>line cook host training community relations cu...</td>\n",
              "    </tr>\n",
              "    <tr>\n",
              "      <th>9</th>\n",
              "      <td>1251</td>\n",
              "      <td>fine arts retail parttime travel</td>\n",
              "    </tr>\n",
              "    <tr>\n",
              "      <th>10</th>\n",
              "      <td>1877</td>\n",
              "      <td>receptionist</td>\n",
              "    </tr>\n",
              "    <tr>\n",
              "      <th>11</th>\n",
              "      <td>1906</td>\n",
              "      <td>messenger warehouse worker</td>\n",
              "    </tr>\n",
              "    <tr>\n",
              "      <th>12</th>\n",
              "      <td>2069</td>\n",
              "      <td>chef line cook book keeper dishwasher server</td>\n",
              "    </tr>\n",
              "    <tr>\n",
              "      <th>13</th>\n",
              "      <td>2071</td>\n",
              "      <td>customer service rep host server sales rep rec...</td>\n",
              "    </tr>\n",
              "    <tr>\n",
              "      <th>14</th>\n",
              "      <td>2072</td>\n",
              "      <td>book keeper server host receptionist sales rep...</td>\n",
              "    </tr>\n",
              "    <tr>\n",
              "      <th>15</th>\n",
              "      <td>2074</td>\n",
              "      <td>data scientist barista bartender customer serv...</td>\n",
              "    </tr>\n",
              "    <tr>\n",
              "      <th>16</th>\n",
              "      <td>2075</td>\n",
              "      <td>line cook customer service rep server</td>\n",
              "    </tr>\n",
              "    <tr>\n",
              "      <th>17</th>\n",
              "      <td>2076</td>\n",
              "      <td>receptionist customer service rep</td>\n",
              "    </tr>\n",
              "    <tr>\n",
              "      <th>18</th>\n",
              "      <td>2077</td>\n",
              "      <td>server host barista bartender sales rep tutor ...</td>\n",
              "    </tr>\n",
              "    <tr>\n",
              "      <th>19</th>\n",
              "      <td>2079</td>\n",
              "      <td>server bartender</td>\n",
              "    </tr>\n",
              "  </tbody>\n",
              "</table>\n",
              "</div>"
            ],
            "text/plain": [
              "    Applicant.ID                               Position.Of.Interest\n",
              "0             96                                             server\n",
              "1            153  barista host server sales rep customer service...\n",
              "2            256  host production area sales rep customer servic...\n",
              "3            438           customer service rep barista host server\n",
              "4            568      receptionist customer service rep book keeper\n",
              "5            601              customer service rep server line cook\n",
              "6            867       driver customer service rep book keeper chef\n",
              "7            938      host receptionist customer service rep server\n",
              "8           1210  line cook host training community relations cu...\n",
              "9           1251                   fine arts retail parttime travel\n",
              "10          1877                                       receptionist\n",
              "11          1906                         messenger warehouse worker\n",
              "12          2069       chef line cook book keeper dishwasher server\n",
              "13          2071  customer service rep host server sales rep rec...\n",
              "14          2072  book keeper server host receptionist sales rep...\n",
              "15          2074  data scientist barista bartender customer serv...\n",
              "16          2075              line cook customer service rep server\n",
              "17          2076                  receptionist customer service rep\n",
              "18          2077  server host barista bartender sales rep tutor ...\n",
              "19          2079                                   server bartender"
            ]
          },
          "metadata": {
            "tags": []
          },
          "execution_count": 38
        }
      ]
    },
    {
      "cell_type": "code",
      "metadata": {
        "colab": {
          "base_uri": "https://localhost:8080/",
          "height": 206
        },
        "id": "26ksb-7mkwat",
        "outputId": "601f0ac3-adb1-4ea7-a51f-de9b196e7e12"
      },
      "source": [
        "#Merging the dataframes of user_view_history, experience and interests to form a query\n",
        "\n",
        "#Here, merging user_view_history dataframe with experience dataframe taking outerjoin and replacing NAN by empty strings\n",
        "_merge_user_view_experience = user_view_history.merge(experience, left_on='Applicant.ID', right_on='Applicant.ID', how='outer')\n",
        "_merge_user_view_experience = _merge_user_view_experience.fillna(' ')\n",
        "_merge_user_view_experience.head()\n"
      ],
      "execution_count": 39,
      "outputs": [
        {
          "output_type": "execute_result",
          "data": {
            "text/html": [
              "<div>\n",
              "<style scoped>\n",
              "    .dataframe tbody tr th:only-of-type {\n",
              "        vertical-align: middle;\n",
              "    }\n",
              "\n",
              "    .dataframe tbody tr th {\n",
              "        vertical-align: top;\n",
              "    }\n",
              "\n",
              "    .dataframe thead th {\n",
              "        text-align: right;\n",
              "    }\n",
              "</style>\n",
              "<table border=\"1\" class=\"dataframe\">\n",
              "  <thead>\n",
              "    <tr style=\"text-align: right;\">\n",
              "      <th></th>\n",
              "      <th>Applicant.ID</th>\n",
              "      <th>View_Query</th>\n",
              "      <th>Position.Name</th>\n",
              "    </tr>\n",
              "  </thead>\n",
              "  <tbody>\n",
              "    <tr>\n",
              "      <th>0</th>\n",
              "      <td>10000</td>\n",
              "      <td>cashiers  valets needed  wallypark  newark</td>\n",
              "      <td></td>\n",
              "    </tr>\n",
              "    <tr>\n",
              "      <th>1</th>\n",
              "      <td>10000</td>\n",
              "      <td>macys seasonal retail fragrance cashier   gard...</td>\n",
              "      <td></td>\n",
              "    </tr>\n",
              "    <tr>\n",
              "      <th>2</th>\n",
              "      <td>10001</td>\n",
              "      <td>part time showroom sales  cashier  grizzly ind...</td>\n",
              "      <td>machine operator account manager  sales admini...</td>\n",
              "    </tr>\n",
              "    <tr>\n",
              "      <th>3</th>\n",
              "      <td>10002</td>\n",
              "      <td>event specialist part time  advantage sales  m...</td>\n",
              "      <td></td>\n",
              "    </tr>\n",
              "    <tr>\n",
              "      <th>4</th>\n",
              "      <td>10002</td>\n",
              "      <td>bonefish  kitchen staff  bonefish grill  green...</td>\n",
              "      <td></td>\n",
              "    </tr>\n",
              "  </tbody>\n",
              "</table>\n",
              "</div>"
            ],
            "text/plain": [
              "   Applicant.ID  ...                                      Position.Name\n",
              "0         10000  ...                                                   \n",
              "1         10000  ...                                                   \n",
              "2         10001  ...  machine operator account manager  sales admini...\n",
              "3         10002  ...                                                   \n",
              "4         10002  ...                                                   \n",
              "\n",
              "[5 rows x 3 columns]"
            ]
          },
          "metadata": {
            "tags": []
          },
          "execution_count": 39
        }
      ]
    },
    {
      "cell_type": "code",
      "metadata": {
        "colab": {
          "base_uri": "https://localhost:8080/",
          "height": 677
        },
        "id": "IJAAFuYTlxzm",
        "outputId": "81405f21-2be8-4e6b-9287-a397b1d32b6d"
      },
      "source": [
        "#Merging the previous dataframe of user_view+experience with the interests dataframe\n",
        "_merge_all = _merge_user_view_experience.merge(interests, left_on='Applicant.ID', right_on='Applicant.ID', how='outer')\n",
        "_merge_all = _merge_all.fillna(\" \")\n",
        "_merge_all.head(20)"
      ],
      "execution_count": 40,
      "outputs": [
        {
          "output_type": "execute_result",
          "data": {
            "text/html": [
              "<div>\n",
              "<style scoped>\n",
              "    .dataframe tbody tr th:only-of-type {\n",
              "        vertical-align: middle;\n",
              "    }\n",
              "\n",
              "    .dataframe tbody tr th {\n",
              "        vertical-align: top;\n",
              "    }\n",
              "\n",
              "    .dataframe thead th {\n",
              "        text-align: right;\n",
              "    }\n",
              "</style>\n",
              "<table border=\"1\" class=\"dataframe\">\n",
              "  <thead>\n",
              "    <tr style=\"text-align: right;\">\n",
              "      <th></th>\n",
              "      <th>Applicant.ID</th>\n",
              "      <th>View_Query</th>\n",
              "      <th>Position.Name</th>\n",
              "      <th>Position.Of.Interest</th>\n",
              "    </tr>\n",
              "  </thead>\n",
              "  <tbody>\n",
              "    <tr>\n",
              "      <th>0</th>\n",
              "      <td>10000</td>\n",
              "      <td>cashiers  valets needed  wallypark  newark</td>\n",
              "      <td></td>\n",
              "      <td></td>\n",
              "    </tr>\n",
              "    <tr>\n",
              "      <th>1</th>\n",
              "      <td>10000</td>\n",
              "      <td>macys seasonal retail fragrance cashier   gard...</td>\n",
              "      <td></td>\n",
              "      <td></td>\n",
              "    </tr>\n",
              "    <tr>\n",
              "      <th>2</th>\n",
              "      <td>10001</td>\n",
              "      <td>part time showroom sales  cashier  grizzly ind...</td>\n",
              "      <td>machine operator account manager  sales admini...</td>\n",
              "      <td></td>\n",
              "    </tr>\n",
              "    <tr>\n",
              "      <th>3</th>\n",
              "      <td>10002</td>\n",
              "      <td>event specialist part time  advantage sales  m...</td>\n",
              "      <td></td>\n",
              "      <td></td>\n",
              "    </tr>\n",
              "    <tr>\n",
              "      <th>4</th>\n",
              "      <td>10002</td>\n",
              "      <td>bonefish  kitchen staff  bonefish grill  green...</td>\n",
              "      <td></td>\n",
              "      <td></td>\n",
              "    </tr>\n",
              "    <tr>\n",
              "      <th>5</th>\n",
              "      <td>10003</td>\n",
              "      <td>entry level security officer  securitas securi...</td>\n",
              "      <td>technician  maintenance technician electrical ...</td>\n",
              "      <td>security officer</td>\n",
              "    </tr>\n",
              "    <tr>\n",
              "      <th>6</th>\n",
              "      <td>10004</td>\n",
              "      <td>pt teller  chestereast th cleveland  keybank  ...</td>\n",
              "      <td>shift superviveur</td>\n",
              "      <td></td>\n",
              "    </tr>\n",
              "    <tr>\n",
              "      <th>7</th>\n",
              "      <td>10006</td>\n",
              "      <td>housekeeper  caregiver  senior living  san die...</td>\n",
              "      <td></td>\n",
              "      <td></td>\n",
              "    </tr>\n",
              "    <tr>\n",
              "      <th>8</th>\n",
              "      <td>10006</td>\n",
              "      <td>front desk coordinator for immediate opportuni...</td>\n",
              "      <td></td>\n",
              "      <td></td>\n",
              "    </tr>\n",
              "    <tr>\n",
              "      <th>9</th>\n",
              "      <td>10006</td>\n",
              "      <td>macys seasonal retail selling floor recovery e...</td>\n",
              "      <td></td>\n",
              "      <td></td>\n",
              "    </tr>\n",
              "    <tr>\n",
              "      <th>10</th>\n",
              "      <td>10006</td>\n",
              "      <td>housekeeper  caregiver  senior living  san die...</td>\n",
              "      <td></td>\n",
              "      <td></td>\n",
              "    </tr>\n",
              "    <tr>\n",
              "      <th>11</th>\n",
              "      <td>10006</td>\n",
              "      <td>retail gift registry advisor night part time s...</td>\n",
              "      <td></td>\n",
              "      <td></td>\n",
              "    </tr>\n",
              "    <tr>\n",
              "      <th>12</th>\n",
              "      <td>10006</td>\n",
              "      <td>associate firstline technician  san diego ca p...</td>\n",
              "      <td></td>\n",
              "      <td></td>\n",
              "    </tr>\n",
              "    <tr>\n",
              "      <th>13</th>\n",
              "      <td>10006</td>\n",
              "      <td>promotions technician pt  univision communicat...</td>\n",
              "      <td></td>\n",
              "      <td></td>\n",
              "    </tr>\n",
              "    <tr>\n",
              "      <th>14</th>\n",
              "      <td>10006</td>\n",
              "      <td>associate firstline technician  san diego ca p...</td>\n",
              "      <td></td>\n",
              "      <td></td>\n",
              "    </tr>\n",
              "    <tr>\n",
              "      <th>15</th>\n",
              "      <td>10006</td>\n",
              "      <td>retail gift registry advisor night part time s...</td>\n",
              "      <td></td>\n",
              "      <td></td>\n",
              "    </tr>\n",
              "    <tr>\n",
              "      <th>16</th>\n",
              "      <td>10006</td>\n",
              "      <td>part  time customer service representative  ch...</td>\n",
              "      <td></td>\n",
              "      <td></td>\n",
              "    </tr>\n",
              "    <tr>\n",
              "      <th>17</th>\n",
              "      <td>10008</td>\n",
              "      <td>part time customer service  teller  fifth thir...</td>\n",
              "      <td>nonfood stocker photo registrar registrar cash...</td>\n",
              "      <td>host barista receptionist book keeper customer...</td>\n",
              "    </tr>\n",
              "    <tr>\n",
              "      <th>18</th>\n",
              "      <td>10008</td>\n",
              "      <td>food svc worker part  time job  resource netwo...</td>\n",
              "      <td>nonfood stocker photo registrar registrar cash...</td>\n",
              "      <td>host barista receptionist book keeper customer...</td>\n",
              "    </tr>\n",
              "    <tr>\n",
              "      <th>19</th>\n",
              "      <td>10009</td>\n",
              "      <td>retail sales consultant  att retail  norcross</td>\n",
              "      <td></td>\n",
              "      <td></td>\n",
              "    </tr>\n",
              "  </tbody>\n",
              "</table>\n",
              "</div>"
            ],
            "text/plain": [
              "    Applicant.ID  ...                               Position.Of.Interest\n",
              "0          10000  ...                                                   \n",
              "1          10000  ...                                                   \n",
              "2          10001  ...                                                   \n",
              "3          10002  ...                                                   \n",
              "4          10002  ...                                                   \n",
              "5          10003  ...                                   security officer\n",
              "6          10004  ...                                                   \n",
              "7          10006  ...                                                   \n",
              "8          10006  ...                                                   \n",
              "9          10006  ...                                                   \n",
              "10         10006  ...                                                   \n",
              "11         10006  ...                                                   \n",
              "12         10006  ...                                                   \n",
              "13         10006  ...                                                   \n",
              "14         10006  ...                                                   \n",
              "15         10006  ...                                                   \n",
              "16         10006  ...                                                   \n",
              "17         10008  ...  host barista receptionist book keeper customer...\n",
              "18         10008  ...  host barista receptionist book keeper customer...\n",
              "19         10009  ...                                                   \n",
              "\n",
              "[20 rows x 4 columns]"
            ]
          },
          "metadata": {
            "tags": []
          },
          "execution_count": 40
        }
      ]
    },
    {
      "cell_type": "code",
      "metadata": {
        "colab": {
          "base_uri": "https://localhost:8080/",
          "height": 206
        },
        "id": "CB0_wgAUmujB",
        "outputId": "6224623b-9341-47ae-85c0-077a3644d22f"
      },
      "source": [
        "#combining all the columns to form the final user query\n",
        "\n",
        "_merge_all[\"Query\"] = _merge_all[\"View_Query\"].map(str) + _merge_all[\"Position.Name\"].map(str) +\" \"+ _merge_all[\"Position.Of.Interest\"].map(str)\n",
        "\n",
        "user_queries = _merge_all[['Applicant.ID', 'Query']]\n",
        "user_queries.columns = ['User_Id', 'Query']\n",
        "user_queries.head()"
      ],
      "execution_count": 41,
      "outputs": [
        {
          "output_type": "execute_result",
          "data": {
            "text/html": [
              "<div>\n",
              "<style scoped>\n",
              "    .dataframe tbody tr th:only-of-type {\n",
              "        vertical-align: middle;\n",
              "    }\n",
              "\n",
              "    .dataframe tbody tr th {\n",
              "        vertical-align: top;\n",
              "    }\n",
              "\n",
              "    .dataframe thead th {\n",
              "        text-align: right;\n",
              "    }\n",
              "</style>\n",
              "<table border=\"1\" class=\"dataframe\">\n",
              "  <thead>\n",
              "    <tr style=\"text-align: right;\">\n",
              "      <th></th>\n",
              "      <th>User_Id</th>\n",
              "      <th>Query</th>\n",
              "    </tr>\n",
              "  </thead>\n",
              "  <tbody>\n",
              "    <tr>\n",
              "      <th>0</th>\n",
              "      <td>10000</td>\n",
              "      <td>cashiers  valets needed  wallypark  newark</td>\n",
              "    </tr>\n",
              "    <tr>\n",
              "      <th>1</th>\n",
              "      <td>10000</td>\n",
              "      <td>macys seasonal retail fragrance cashier   gard...</td>\n",
              "    </tr>\n",
              "    <tr>\n",
              "      <th>2</th>\n",
              "      <td>10001</td>\n",
              "      <td>part time showroom sales  cashier  grizzly ind...</td>\n",
              "    </tr>\n",
              "    <tr>\n",
              "      <th>3</th>\n",
              "      <td>10002</td>\n",
              "      <td>event specialist part time  advantage sales  m...</td>\n",
              "    </tr>\n",
              "    <tr>\n",
              "      <th>4</th>\n",
              "      <td>10002</td>\n",
              "      <td>bonefish  kitchen staff  bonefish grill  green...</td>\n",
              "    </tr>\n",
              "  </tbody>\n",
              "</table>\n",
              "</div>"
            ],
            "text/plain": [
              "   User_Id                                              Query\n",
              "0    10000      cashiers  valets needed  wallypark  newark   \n",
              "1    10000  macys seasonal retail fragrance cashier   gard...\n",
              "2    10001  part time showroom sales  cashier  grizzly ind...\n",
              "3    10002  event specialist part time  advantage sales  m...\n",
              "4    10002  bonefish  kitchen staff  bonefish grill  green..."
            ]
          },
          "metadata": {
            "tags": []
          },
          "execution_count": 41
        }
      ]
    },
    {
      "cell_type": "code",
      "metadata": {
        "id": "f33M6CeUoIXp"
      },
      "source": [
        "user_queries.to_csv(\"user_queries.csv\", index=True)"
      ],
      "execution_count": 43,
      "outputs": []
    },
    {
      "cell_type": "code",
      "metadata": {
        "id": "t5j7LIL7_3r-"
      },
      "source": [
        "user_queries = pd.read_csv('user_queries.csv')"
      ],
      "execution_count": 8,
      "outputs": []
    },
    {
      "cell_type": "code",
      "metadata": {
        "id": "CwjBEAslFmsD"
      },
      "source": [
        "#Consider a random user with User_Id = user_id and check out recommended jobs to the user\n",
        "random_user_id = 10006\n",
        "index = np.where(user_queries['User_Id'] == random_user_id)[0][0]\n",
        "random_user_query = user_queries.iloc[[index]]"
      ],
      "execution_count": 28,
      "outputs": []
    },
    {
      "cell_type": "code",
      "metadata": {
        "id": "AMo3FRK9oWaq"
      },
      "source": [
        "#Using Cosine-similarity to calculate query-document matching for job recommendations\n",
        "\n",
        "from sklearn.metrics.pairwise import cosine_similarity\n",
        "random_user_vec = tfidf_vectorizer.transform(random_user_query['Query'])\n",
        "random_user_job_sim = map(lambda x: cosine_similarity(random_user_vec, x), job_vecs)"
      ],
      "execution_count": 29,
      "outputs": []
    },
    {
      "cell_type": "code",
      "metadata": {
        "id": "VhfPJc6-znRa"
      },
      "source": [
        "#user_job_sim is a matrix of dimensions num_jobs x num_users and each row containing similarity score for each available job to a user\n",
        "random_user_job_sim_list = list(random_user_job_sim)\n"
      ],
      "execution_count": 31,
      "outputs": []
    },
    {
      "cell_type": "code",
      "metadata": {
        "colab": {
          "base_uri": "https://localhost:8080/",
          "height": 380
        },
        "id": "332y1ZiCCIbx",
        "outputId": "e02b7ba9-a9b7-4b1a-eb34-c65b6e95d8a8"
      },
      "source": [
        "#List top 10 jobs recommended to random_user\n",
        "\n",
        "top_10_jobs = sorted(range(len(random_user_job_sim_list)), key=lambda i: random_user_job_sim_list[i], reverse=True)[:10]\n",
        "print(top_10_jobs)\n",
        "recommendation = pd.DataFrame(columns = ['User_Id', 'Job_Id'])\n",
        "count = 0\n",
        "for i in top_10_jobs:\n",
        "    recommendation.at[count, 'User_Id'] = random_user_id\n",
        "    recommendation.at[count,'Job_Id'] =  job_docs['Job_Id'][i]\n",
        "    count += 1\n",
        "\n",
        "recommendation"
      ],
      "execution_count": 35,
      "outputs": [
        {
          "output_type": "stream",
          "text": [
            "[408, 932, 4297, 933, 3956, 677, 2839, 1513, 3777, 3416]\n"
          ],
          "name": "stdout"
        },
        {
          "output_type": "execute_result",
          "data": {
            "text/html": [
              "<div>\n",
              "<style scoped>\n",
              "    .dataframe tbody tr th:only-of-type {\n",
              "        vertical-align: middle;\n",
              "    }\n",
              "\n",
              "    .dataframe tbody tr th {\n",
              "        vertical-align: top;\n",
              "    }\n",
              "\n",
              "    .dataframe thead th {\n",
              "        text-align: right;\n",
              "    }\n",
              "</style>\n",
              "<table border=\"1\" class=\"dataframe\">\n",
              "  <thead>\n",
              "    <tr style=\"text-align: right;\">\n",
              "      <th></th>\n",
              "      <th>User_Id</th>\n",
              "      <th>Job_Id</th>\n",
              "    </tr>\n",
              "  </thead>\n",
              "  <tbody>\n",
              "    <tr>\n",
              "      <th>0</th>\n",
              "      <td>10006</td>\n",
              "      <td>136563</td>\n",
              "    </tr>\n",
              "    <tr>\n",
              "      <th>1</th>\n",
              "      <td>10006</td>\n",
              "      <td>137172</td>\n",
              "    </tr>\n",
              "    <tr>\n",
              "      <th>2</th>\n",
              "      <td>10006</td>\n",
              "      <td>143661</td>\n",
              "    </tr>\n",
              "    <tr>\n",
              "      <th>3</th>\n",
              "      <td>10006</td>\n",
              "      <td>137174</td>\n",
              "    </tr>\n",
              "    <tr>\n",
              "      <th>4</th>\n",
              "      <td>10006</td>\n",
              "      <td>143224</td>\n",
              "    </tr>\n",
              "    <tr>\n",
              "      <th>5</th>\n",
              "      <td>10006</td>\n",
              "      <td>136853</td>\n",
              "    </tr>\n",
              "    <tr>\n",
              "      <th>6</th>\n",
              "      <td>10006</td>\n",
              "      <td>141530</td>\n",
              "    </tr>\n",
              "    <tr>\n",
              "      <th>7</th>\n",
              "      <td>10006</td>\n",
              "      <td>139832</td>\n",
              "    </tr>\n",
              "    <tr>\n",
              "      <th>8</th>\n",
              "      <td>10006</td>\n",
              "      <td>142619</td>\n",
              "    </tr>\n",
              "    <tr>\n",
              "      <th>9</th>\n",
              "      <td>10006</td>\n",
              "      <td>142156</td>\n",
              "    </tr>\n",
              "  </tbody>\n",
              "</table>\n",
              "</div>"
            ],
            "text/plain": [
              "  User_Id  Job_Id\n",
              "0   10006  136563\n",
              "1   10006  137172\n",
              "2   10006  143661\n",
              "3   10006  137174\n",
              "4   10006  143224\n",
              "5   10006  136853\n",
              "6   10006  141530\n",
              "7   10006  139832\n",
              "8   10006  142619\n",
              "9   10006  142156"
            ]
          },
          "metadata": {
            "tags": []
          },
          "execution_count": 35
        }
      ]
    },
    {
      "cell_type": "code",
      "metadata": {
        "colab": {
          "base_uri": "https://localhost:8080/",
          "height": 363
        },
        "id": "HZVJdD-XHEXk",
        "outputId": "18c02e54-713d-4c7b-d84d-1dd2f189a764"
      },
      "source": [
        "#Adding Job description document to the recommended jobs\n",
        "\n",
        "recommended_job_docs = recommendation.merge(job_docs, how='inner', on='Job_Id')\n",
        "recommended_job_docs.drop(columns='Unnamed: 0', axis=1)"
      ],
      "execution_count": 41,
      "outputs": [
        {
          "output_type": "execute_result",
          "data": {
            "text/html": [
              "<div>\n",
              "<style scoped>\n",
              "    .dataframe tbody tr th:only-of-type {\n",
              "        vertical-align: middle;\n",
              "    }\n",
              "\n",
              "    .dataframe tbody tr th {\n",
              "        vertical-align: top;\n",
              "    }\n",
              "\n",
              "    .dataframe thead th {\n",
              "        text-align: right;\n",
              "    }\n",
              "</style>\n",
              "<table border=\"1\" class=\"dataframe\">\n",
              "  <thead>\n",
              "    <tr style=\"text-align: right;\">\n",
              "      <th></th>\n",
              "      <th>User_Id</th>\n",
              "      <th>Job_Id</th>\n",
              "      <th>Job_Doc</th>\n",
              "    </tr>\n",
              "  </thead>\n",
              "  <tbody>\n",
              "    <tr>\n",
              "      <th>0</th>\n",
              "      <td>10006</td>\n",
              "      <td>136563</td>\n",
              "      <td>medical receptionist needed asap officeteam sa...</td>\n",
              "    </tr>\n",
              "    <tr>\n",
              "      <th>1</th>\n",
              "      <td>10006</td>\n",
              "      <td>137172</td>\n",
              "      <td>massage therapy instructor premier education g...</td>\n",
              "    </tr>\n",
              "    <tr>\n",
              "      <th>2</th>\n",
              "      <td>10006</td>\n",
              "      <td>143661</td>\n",
              "      <td>registered nurse rn accepting applications tri...</td>\n",
              "    </tr>\n",
              "    <tr>\n",
              "      <th>3</th>\n",
              "      <td>10006</td>\n",
              "      <td>137174</td>\n",
              "      <td>management trainee intern port charlotte saras...</td>\n",
              "    </tr>\n",
              "    <tr>\n",
              "      <th>4</th>\n",
              "      <td>10006</td>\n",
              "      <td>143224</td>\n",
              "      <td>custodian janitorial porter host legoland disc...</td>\n",
              "    </tr>\n",
              "    <tr>\n",
              "      <th>5</th>\n",
              "      <td>10006</td>\n",
              "      <td>136853</td>\n",
              "      <td>scheduler officeteam chandler seasonal temp re...</td>\n",
              "    </tr>\n",
              "    <tr>\n",
              "      <th>6</th>\n",
              "      <td>10006</td>\n",
              "      <td>141530</td>\n",
              "      <td>cashier customer service p.c. richard son bric...</td>\n",
              "    </tr>\n",
              "    <tr>\n",
              "      <th>7</th>\n",
              "      <td>10006</td>\n",
              "      <td>139832</td>\n",
              "      <td>accounting intern celadon trucking services in...</td>\n",
              "    </tr>\n",
              "    <tr>\n",
              "      <th>8</th>\n",
              "      <td>10006</td>\n",
              "      <td>142619</td>\n",
              "      <td>health information mgr officeteam healthcare l...</td>\n",
              "    </tr>\n",
              "    <tr>\n",
              "      <th>9</th>\n",
              "      <td>10006</td>\n",
              "      <td>142156</td>\n",
              "      <td>payroll specialist accountemps lehi seasonal t...</td>\n",
              "    </tr>\n",
              "  </tbody>\n",
              "</table>\n",
              "</div>"
            ],
            "text/plain": [
              "  User_Id  Job_Id                                            Job_Doc\n",
              "0   10006  136563  medical receptionist needed asap officeteam sa...\n",
              "1   10006  137172  massage therapy instructor premier education g...\n",
              "2   10006  143661  registered nurse rn accepting applications tri...\n",
              "3   10006  137174  management trainee intern port charlotte saras...\n",
              "4   10006  143224  custodian janitorial porter host legoland disc...\n",
              "5   10006  136853  scheduler officeteam chandler seasonal temp re...\n",
              "6   10006  141530  cashier customer service p.c. richard son bric...\n",
              "7   10006  139832  accounting intern celadon trucking services in...\n",
              "8   10006  142619  health information mgr officeteam healthcare l...\n",
              "9   10006  142156  payroll specialist accountemps lehi seasonal t..."
            ]
          },
          "metadata": {
            "tags": []
          },
          "execution_count": 41
        }
      ]
    }
  ]
}